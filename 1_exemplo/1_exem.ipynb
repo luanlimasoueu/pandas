{
 "cells": [
  {
   "cell_type": "code",
   "execution_count": 1,
   "metadata": {},
   "outputs": [
    {
     "data": {
      "text/html": [
       "<div>\n",
       "<style scoped>\n",
       "    .dataframe tbody tr th:only-of-type {\n",
       "        vertical-align: middle;\n",
       "    }\n",
       "\n",
       "    .dataframe tbody tr th {\n",
       "        vertical-align: top;\n",
       "    }\n",
       "\n",
       "    .dataframe thead th {\n",
       "        text-align: right;\n",
       "    }\n",
       "</style>\n",
       "<table border=\"1\" class=\"dataframe\">\n",
       "  <thead>\n",
       "    <tr style=\"text-align: right;\">\n",
       "      <th></th>\n",
       "      <th>Player</th>\n",
       "      <th>Position</th>\n",
       "      <th>ID</th>\n",
       "      <th>Draft Year</th>\n",
       "      <th>Projected SPM</th>\n",
       "      <th>Superstar</th>\n",
       "      <th>Starter</th>\n",
       "      <th>Role Player</th>\n",
       "      <th>Bust</th>\n",
       "    </tr>\n",
       "  </thead>\n",
       "  <tbody>\n",
       "    <tr>\n",
       "      <th>0</th>\n",
       "      <td>Karl-Anthony Towns</td>\n",
       "      <td>C</td>\n",
       "      <td>karl-anthony-towns</td>\n",
       "      <td>2015</td>\n",
       "      <td>1.030606</td>\n",
       "      <td>0.134767</td>\n",
       "      <td>0.427183</td>\n",
       "      <td>0.163083</td>\n",
       "      <td>0.274967</td>\n",
       "    </tr>\n",
       "    <tr>\n",
       "      <th>1</th>\n",
       "      <td>Justise Winslow</td>\n",
       "      <td>SF</td>\n",
       "      <td>justise-winslow</td>\n",
       "      <td>2015</td>\n",
       "      <td>0.875329</td>\n",
       "      <td>0.083529</td>\n",
       "      <td>0.510905</td>\n",
       "      <td>0.176767</td>\n",
       "      <td>0.228800</td>\n",
       "    </tr>\n",
       "    <tr>\n",
       "      <th>2</th>\n",
       "      <td>Stanley Johnson</td>\n",
       "      <td>SF</td>\n",
       "      <td>stanley-johnson</td>\n",
       "      <td>2015</td>\n",
       "      <td>0.679493</td>\n",
       "      <td>0.067800</td>\n",
       "      <td>0.423733</td>\n",
       "      <td>0.278500</td>\n",
       "      <td>0.229967</td>\n",
       "    </tr>\n",
       "    <tr>\n",
       "      <th>3</th>\n",
       "      <td>Jahlil Okafor</td>\n",
       "      <td>C</td>\n",
       "      <td>jahlil-okafor</td>\n",
       "      <td>2015</td>\n",
       "      <td>0.521661</td>\n",
       "      <td>0.058717</td>\n",
       "      <td>0.409900</td>\n",
       "      <td>0.235533</td>\n",
       "      <td>0.295850</td>\n",
       "    </tr>\n",
       "    <tr>\n",
       "      <th>4</th>\n",
       "      <td>D`Angelo Russell</td>\n",
       "      <td>PG</td>\n",
       "      <td>d-angelo-russell</td>\n",
       "      <td>2015</td>\n",
       "      <td>0.511967</td>\n",
       "      <td>0.152033</td>\n",
       "      <td>0.342283</td>\n",
       "      <td>0.096583</td>\n",
       "      <td>0.409100</td>\n",
       "    </tr>\n",
       "  </tbody>\n",
       "</table>\n",
       "</div>"
      ],
      "text/plain": [
       "               Player Position                  ID  Draft Year  Projected SPM  \\\n",
       "0  Karl-Anthony Towns        C  karl-anthony-towns        2015       1.030606   \n",
       "1     Justise Winslow       SF     justise-winslow        2015       0.875329   \n",
       "2     Stanley Johnson       SF     stanley-johnson        2015       0.679493   \n",
       "3       Jahlil Okafor        C       jahlil-okafor        2015       0.521661   \n",
       "4    D`Angelo Russell       PG    d-angelo-russell        2015       0.511967   \n",
       "\n",
       "   Superstar   Starter  Role Player      Bust  \n",
       "0   0.134767  0.427183     0.163083  0.274967  \n",
       "1   0.083529  0.510905     0.176767  0.228800  \n",
       "2   0.067800  0.423733     0.278500  0.229967  \n",
       "3   0.058717  0.409900     0.235533  0.295850  \n",
       "4   0.152033  0.342283     0.096583  0.409100  "
      ]
     },
     "execution_count": 1,
     "metadata": {},
     "output_type": "execute_result"
    }
   ],
   "source": [
    "import pandas as pd\n",
    "\n",
    "df = pd.read_csv('historical_projections.csv')\n",
    "df.head()"
   ]
  },
  {
   "cell_type": "markdown",
   "metadata": {},
   "source": [
    "LOC"
   ]
  },
  {
   "cell_type": "code",
   "execution_count": 3,
   "metadata": {},
   "outputs": [
    {
     "data": {
      "text/plain": [
       "Player           Dakari Johnson\n",
       "Position                      C\n",
       "ID               dakari-johnson\n",
       "Draft Year                 2015\n",
       "Projected SPM          0.491787\n",
       "Superstar              0.021341\n",
       "Starter                0.367544\n",
       "Role Player            0.417572\n",
       "Bust                   0.193544\n",
       "Name: 5, dtype: object"
      ]
     },
     "execution_count": 3,
     "metadata": {},
     "output_type": "execute_result"
    }
   ],
   "source": [
    "df.loc[5]"
   ]
  },
  {
   "cell_type": "code",
   "execution_count": 4,
   "metadata": {},
   "outputs": [
    {
     "data": {
      "text/html": [
       "<div>\n",
       "<style scoped>\n",
       "    .dataframe tbody tr th:only-of-type {\n",
       "        vertical-align: middle;\n",
       "    }\n",
       "\n",
       "    .dataframe tbody tr th {\n",
       "        vertical-align: top;\n",
       "    }\n",
       "\n",
       "    .dataframe thead th {\n",
       "        text-align: right;\n",
       "    }\n",
       "</style>\n",
       "<table border=\"1\" class=\"dataframe\">\n",
       "  <thead>\n",
       "    <tr style=\"text-align: right;\">\n",
       "      <th></th>\n",
       "      <th>Player</th>\n",
       "      <th>Position</th>\n",
       "      <th>ID</th>\n",
       "      <th>Draft Year</th>\n",
       "      <th>Projected SPM</th>\n",
       "      <th>Superstar</th>\n",
       "      <th>Starter</th>\n",
       "      <th>Role Player</th>\n",
       "      <th>Bust</th>\n",
       "    </tr>\n",
       "  </thead>\n",
       "  <tbody>\n",
       "    <tr>\n",
       "      <th>0</th>\n",
       "      <td>Karl-Anthony Towns</td>\n",
       "      <td>C</td>\n",
       "      <td>karl-anthony-towns</td>\n",
       "      <td>2015</td>\n",
       "      <td>1.030606</td>\n",
       "      <td>0.134767</td>\n",
       "      <td>0.427183</td>\n",
       "      <td>0.163083</td>\n",
       "      <td>0.274967</td>\n",
       "    </tr>\n",
       "    <tr>\n",
       "      <th>1</th>\n",
       "      <td>Justise Winslow</td>\n",
       "      <td>SF</td>\n",
       "      <td>justise-winslow</td>\n",
       "      <td>2015</td>\n",
       "      <td>0.875329</td>\n",
       "      <td>0.083529</td>\n",
       "      <td>0.510905</td>\n",
       "      <td>0.176767</td>\n",
       "      <td>0.228800</td>\n",
       "    </tr>\n",
       "    <tr>\n",
       "      <th>2</th>\n",
       "      <td>Stanley Johnson</td>\n",
       "      <td>SF</td>\n",
       "      <td>stanley-johnson</td>\n",
       "      <td>2015</td>\n",
       "      <td>0.679493</td>\n",
       "      <td>0.067800</td>\n",
       "      <td>0.423733</td>\n",
       "      <td>0.278500</td>\n",
       "      <td>0.229967</td>\n",
       "    </tr>\n",
       "  </tbody>\n",
       "</table>\n",
       "</div>"
      ],
      "text/plain": [
       "               Player Position                  ID  Draft Year  Projected SPM  \\\n",
       "0  Karl-Anthony Towns        C  karl-anthony-towns        2015       1.030606   \n",
       "1     Justise Winslow       SF     justise-winslow        2015       0.875329   \n",
       "2     Stanley Johnson       SF     stanley-johnson        2015       0.679493   \n",
       "\n",
       "   Superstar   Starter  Role Player      Bust  \n",
       "0   0.134767  0.427183     0.163083  0.274967  \n",
       "1   0.083529  0.510905     0.176767  0.228800  \n",
       "2   0.067800  0.423733     0.278500  0.229967  "
      ]
     },
     "execution_count": 4,
     "metadata": {},
     "output_type": "execute_result"
    }
   ],
   "source": [
    "df.loc[[0,1,2]] "
   ]
  },
  {
   "cell_type": "code",
   "execution_count": null,
   "metadata": {},
   "outputs": [],
   "source": []
  },
  {
   "cell_type": "code",
   "execution_count": null,
   "metadata": {},
   "outputs": [],
   "source": [
    "df2.loc[[‘Karl-Anthony Towns’, ‘Stanley Johnson’, ‘D`Angelo Russell’], [‘Position’, ‘ID’]] "
   ]
  }
 ],
 "metadata": {
  "kernelspec": {
   "display_name": "Python 3",
   "language": "python",
   "name": "python3"
  },
  "language_info": {
   "codemirror_mode": {
    "name": "ipython",
    "version": 3
   },
   "file_extension": ".py",
   "mimetype": "text/x-python",
   "name": "python",
   "nbconvert_exporter": "python",
   "pygments_lexer": "ipython3",
   "version": "3.10.7"
  }
 },
 "nbformat": 4,
 "nbformat_minor": 2
}
