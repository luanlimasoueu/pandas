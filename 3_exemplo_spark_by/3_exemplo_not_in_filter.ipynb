{
 "cells": [
  {
   "cell_type": "markdown",
   "metadata": {},
   "source": [
    "Complete Example For NOT IN Filter\n",
    "#https://sparkbyexamples.com/pandas/not-in-filter-in-pandas/"
   ]
  },
  {
   "cell_type": "code",
   "execution_count": 2,
   "metadata": {},
   "outputs": [
    {
     "name": "stdout",
     "output_type": "stream",
     "text": [
      "   Courses    Fee  Discount Duration\n",
      "0    Spark  22000      1000   35days\n",
      "1  PySpark  25000      2300   35days\n",
      "2   Hadoop  23000      1000   40days\n",
      "3   Python  24000      1200   30days\n",
      "4   Pandas  26000      2500   25days\n",
      "   Courses    Fee  Discount Duration\n",
      "0    Spark  22000      1000   35days\n",
      "1  PySpark  25000      2300   35days\n",
      "4   Pandas  26000      2500   25days\n"
     ]
    }
   ],
   "source": [
    "import pandas as pd\n",
    "import numpy as np\n",
    "technologies= {\n",
    "    'Courses':[\"Spark\", \"PySpark\", \"Hadoop\", \"Python\", \"Pandas\"],\n",
    "    'Fee' :[22000, 25000, 23000, 24000, 26000],\n",
    "    'Discount':[1000, 2300, 1000, 1200, 2500],\n",
    "    'Duration':['35days', '35days', '40days', '30days', '25days']\n",
    "              }\n",
    "df = pd.DataFrame(technologies)\n",
    "print(df)\n",
    "\n",
    "# Filter single column Use NOT IN filter\n",
    "list_values = [\"Hadoop\", \"Python\"]\n",
    "df2 = df[~df['Courses'].isin(list_values)]\n",
    "print(df2)"
   ]
  },
  {
   "cell_type": "code",
   "execution_count": 3,
   "metadata": {},
   "outputs": [
    {
     "name": "stdout",
     "output_type": "stream",
     "text": [
      "   Courses    Fee  Discount Duration\n",
      "0    Spark  22000      1000   35days\n",
      "1  PySpark  25000      2300   35days\n",
      "3   Python  24000      1200   30days\n",
      "4   Pandas  26000      2500   25days\n"
     ]
    }
   ],
   "source": [
    "# Filter for rows where the Fee name is not in list\n",
    "list_values = [23000]\n",
    "df2 = df[~df['Fee'].isin(list_values)]\n",
    "print(df2)"
   ]
  },
  {
   "cell_type": "code",
   "execution_count": 4,
   "metadata": {},
   "outputs": [
    {
     "name": "stdout",
     "output_type": "stream",
     "text": [
      "  Courses    Fee  Discount Duration\n",
      "3  Python  24000      1200   30days\n",
      "4  Pandas  26000      2500   25days\n"
     ]
    }
   ],
   "source": [
    "  # Filter for rows where the Discount name is not in list\n",
    "list_values = [1000, 2300]\n",
    "df2 = df[~df['Discount'].isin(list_values)]\n",
    "print(df2)"
   ]
  },
  {
   "cell_type": "code",
   "execution_count": 5,
   "metadata": {},
   "outputs": [
    {
     "name": "stdout",
     "output_type": "stream",
     "text": [
      "   Courses    Fee  Discount Duration\n",
      "1  PySpark  25000      2300   35days\n",
      "3   Python  24000      1200   30days\n"
     ]
    }
   ],
   "source": [
    "# Use not in filter with multiple column\n",
    "list_values = [\"Spark\", \"Pandas\", 1000]\n",
    "df2 = df[~df[['Courses', 'Discount']].isin(list_values).any(axis=1)]\n",
    "print(df2)"
   ]
  },
  {
   "cell_type": "code",
   "execution_count": 6,
   "metadata": {},
   "outputs": [
    {
     "name": "stdout",
     "output_type": "stream",
     "text": [
      "  Courses    Fee  Discount Duration\n",
      "0   Spark  22000      1000   35days\n",
      "2  Hadoop  23000      1000   40days\n",
      "4  Pandas  26000      2500   25days\n"
     ]
    }
   ],
   "source": [
    "# Filter in Courses and Duration column\n",
    "list_values = [\"PySpark\", '30days']\n",
    "df2 = df[~df[['Courses', 'Duration']].isin(list_values).any(axis=1)]\n",
    "print(df2)\n"
   ]
  },
  {
   "cell_type": "code",
   "execution_count": 7,
   "metadata": {},
   "outputs": [
    {
     "name": "stdout",
     "output_type": "stream",
     "text": [
      "  Courses    Fee  Discount Duration\n",
      "0   Spark  22000      1000   35days\n",
      "2  Hadoop  23000      1000   40days\n",
      "4  Pandas  26000      2500   25days\n"
     ]
    }
   ],
   "source": [
    "# Use numpy with not in filter\n",
    "list_values = [\"PySpark\", \"Python\", 22000]\n",
    "df2 = df[~np.isin(df[\"Courses\"], list_values)]\n",
    "print(df2)"
   ]
  }
 ],
 "metadata": {
  "kernelspec": {
   "display_name": "Python 3",
   "language": "python",
   "name": "python3"
  },
  "language_info": {
   "codemirror_mode": {
    "name": "ipython",
    "version": 3
   },
   "file_extension": ".py",
   "mimetype": "text/x-python",
   "name": "python",
   "nbconvert_exporter": "python",
   "pygments_lexer": "ipython3",
   "version": "3.10.7"
  }
 },
 "nbformat": 4,
 "nbformat_minor": 2
}
